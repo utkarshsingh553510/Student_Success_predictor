{
 "cells": [
  {
   "cell_type": "code",
   "execution_count": 43,
   "id": "0667b85c",
   "metadata": {},
   "outputs": [
    {
     "name": "stdout",
     "output_type": "stream",
     "text": [
      "classification_report\n",
      "              precision    recall  f1-score   support\n",
      "\n",
      "           0       1.00      1.00      1.00         1\n",
      "           1       1.00      1.00      1.00         3\n",
      "\n",
      "    accuracy                           1.00         4\n",
      "   macro avg       1.00      1.00      1.00         4\n",
      "weighted avg       1.00      1.00      1.00         4\n",
      "\n"
     ]
    },
    {
     "data": {
      "image/png": "[encoded data removed]",
      "text/plain": [
       "<Figure size 600x400 with 2 Axes>"
      ]
     },
     "metadata": {},
     "output_type": "display_data"
    },
    {
     "name": "stdout",
     "output_type": "stream",
     "text": [
      ".......predict your Result.....\n",
      "prediction based on input:Pass\n"
     ]
    },
    {
     "name": "stderr",
     "output_type": "stream",
     "text": [
      "c:\\Users\\ADMINS\\anaconda3\\Lib\\site-packages\\sklearn\\utils\\validation.py:2739: UserWarning: X does not have valid feature names, but LogisticRegression was fitted with feature names\n",
      "  warnings.warn(\n"
     ]
    }
   ],
   "source": [
    "import pandas as pd\n",
    "import numpy as np\n",
    "from sklearn.preprocessing import StandardScaler,LabelEncoder\n",
    "from sklearn.model_selection import train_test_split\n",
    "from sklearn.linear_model import LogisticRegression\n",
    "from sklearn.metrics import classification_report,confusion_matrix\n",
    "import matplotlib.pyplot as plt\n",
    "import seaborn as sns \n",
    "df=pd.read_csv(\"student_success_dataset.csv\")\n",
    "le=LabelEncoder()\n",
    "df['Internet']=le.fit_transform (df['Internet'])\n",
    "df['Passed']=le.fit_transform(df['Passed'])\n",
    "features=['StudyHours','Attendance','PastScore','SleepHours']\n",
    "scaler=StandardScaler()\n",
    "df_scaled=df.copy()\n",
    "df_scaled[features]=scaler.fit_transform(df[features])\n",
    "X=df_scaled[features]\n",
    "Y=df_scaled['Passed']\n",
    "X_train,X_test,Y_train,Y_test=train_test_split(X,Y,test_size=0.2,random_state=42)\n",
    "model=LogisticRegression()\n",
    "model.fit(X_train,Y_train)\n",
    "Y_pred=model.predict(X_test)\n",
    "print(\"classification_report\")\n",
    "print(classification_report(Y_test,Y_pred))\n",
    "conf_matrix=confusion_matrix(Y_test,Y_pred)\n",
    "plt.figure(figsize=(6,4))\n",
    "sns.heatmap(conf_matrix,annot=True,fmt=\"d\",cmap=\"Blues\")\n",
    "plt.xlabel(\"prdicted\")\n",
    "plt.ylabel(\"Actual\")\n",
    "plt.title(\"Confusion matrix\")\n",
    "plt.xticks([0.5,1.5],['Fail','Pass'])\n",
    "plt.yticks([0.5,1.5],['Fail','Pass'],rotation=0)\n",
    "plt.tight_layout()\n",
    "plt.show()\n",
    "print(\".......predict your Result.....\")\n",
    "\n",
    "try:\n",
    "    Study_Hours=float(input(\"Enter your study hours\"))\n",
    "    Attendance=float(input(\"Enter your Attendance \"))\n",
    "    Past_score=float(input(\"Enter your past score\"))\n",
    "    Sleep_Hours=float(input(\"Enter how may hours do you sleep\"))\n",
    "    user_input_df=pd.DataFrame([{\n",
    "    \"StudyHours\":Study_Hours,\n",
    "    \"Attendance\":Attendance,\n",
    "    \"PastScore\":Past_score,\n",
    "    \"SleepHours\":Sleep_Hours\n",
    "}])\n",
    "    user_input_scaled=scaler.transform(user_input_df)\n",
    "    prdiction=model.predict(user_input_scaled)[0]\n",
    "    result=\"Pass\" if prdiction==1 else \"Fail\"\n",
    "    print(f'prediction based on input:{result}')\n",
    "except Exception as e:\n",
    " print(\"An error occured:\",e)"
   ]
  }
 ],
 "metadata": {
  "kernelspec": {
   "display_name": "base",
   "language": "python",
   "name": "python3"
  },
  "language_info": {
   "codemirror_mode": {
    "name": "ipython",
    "version": 3
   },
   "file_extension": ".py",
   "mimetype": "text/x-python",
   "name": "python",
   "nbconvert_exporter": "python",
   "pygments_lexer": "ipython3",
   "version": "3.13.5"
  }
 },
 "nbformat": 4,
 "nbformat_minor": 5
}
